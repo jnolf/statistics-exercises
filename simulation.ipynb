{
 "cells": [
  {
   "cell_type": "code",
   "execution_count": 1,
   "id": "880b5aee",
   "metadata": {},
   "outputs": [],
   "source": [
    "import numpy as np \n",
    "import pandas as pd\n"
   ]
  },
  {
   "cell_type": "code",
   "execution_count": 2,
   "id": "047733af",
   "metadata": {},
   "outputs": [
    {
     "data": {
      "text/plain": [
       "0.4166"
      ]
     },
     "execution_count": 2,
     "metadata": {},
     "output_type": "execute_result"
    }
   ],
   "source": [
    "# 1. Figure out how to represent your data (1 = heads, 0 = tails)\n",
    "# a dice roll is a random number between 1 and 6\n",
    "\n",
    "# 2. Create a matrix of random numbers, rows represent simulations cols represent trials\n",
    "rolls = np.random.randint(1, 7, size=(10000, 3))\n",
    "\n",
    "# 3. Apply an aggregation row-wise to summarize each simulation (sum for the total number of heads)\n",
    "did_we_get_at_least_one_3 = (rolls == 3).sum(axis=1) >= 1\n",
    "\n",
    "# 4. Apply an aggregation to the resulting 1-d array to come up with a experimental probability (>= 2 heads, mean)\n",
    "did_we_get_at_least_one_3.mean()"
   ]
  },
  {
   "cell_type": "markdown",
   "id": "1356258b",
   "metadata": {},
   "source": [
    "# Exercise #1"
   ]
  },
  {
   "cell_type": "code",
   "execution_count": 3,
   "id": "21d84cb0",
   "metadata": {},
   "outputs": [
    {
     "data": {
      "text/plain": [
       "0.1665"
      ]
     },
     "execution_count": 3,
     "metadata": {},
     "output_type": "execute_result"
    }
   ],
   "source": [
    "#1 How likely is it that you roll doubles when rolling two dice?\n",
    "rolls = pd.DataFrame(np.random.randint(1,7,size=(10000,2)))\n",
    "dem_doubles = (rolls.sum(axis=1))/2==rolls[0]\n",
    "dem_doubles.mean()\n"
   ]
  },
  {
   "cell_type": "markdown",
   "id": "6dbcbfd0",
   "metadata": {},
   "source": [
    "# Exercise #2"
   ]
  },
  {
   "cell_type": "code",
   "execution_count": 4,
   "id": "0e170e3e",
   "metadata": {},
   "outputs": [],
   "source": [
    "#2 If you flip 8 coins, what is the probability of getting exactly 3 heads? "
   ]
  },
  {
   "cell_type": "code",
   "execution_count": 5,
   "id": "8bff69cd",
   "metadata": {},
   "outputs": [
    {
     "data": {
      "text/plain": [
       "0.2161"
      ]
     },
     "execution_count": 5,
     "metadata": {},
     "output_type": "execute_result"
    }
   ],
   "source": [
    "n_trials = n_rows = 10000\n",
    "n_flips = n_cols = 8\n",
    "\n",
    "\n",
    "flips = np.random.choice([0,1], n_trials * n_flips).reshape(n_rows, n_cols)\n",
    "\n",
    "three_heads = flips.sum(axis=1)==3\n",
    "three_heads.mean()"
   ]
  },
  {
   "cell_type": "code",
   "execution_count": 6,
   "id": "ce6b096d",
   "metadata": {},
   "outputs": [],
   "source": [
    "# What is the probability of getting more than 3 heads?"
   ]
  },
  {
   "cell_type": "code",
   "execution_count": 7,
   "id": "ef4e4aca",
   "metadata": {},
   "outputs": [
    {
     "data": {
      "text/plain": [
       "0.6264"
      ]
     },
     "execution_count": 7,
     "metadata": {},
     "output_type": "execute_result"
    }
   ],
   "source": [
    "n_trials = n_rows = 10000\n",
    "n_flips = n_cols = 8\n",
    "\n",
    "\n",
    "flips = np.random.choice([0,1], n_trials * n_flips).reshape(n_rows, n_cols)\n",
    "\n",
    "three_heads = flips.sum(axis=1)>3\n",
    "three_heads.mean()"
   ]
  },
  {
   "cell_type": "markdown",
   "id": "0ab849c9",
   "metadata": {},
   "source": [
    "# Exercise #3"
   ]
  },
  {
   "cell_type": "code",
   "execution_count": 8,
   "id": "f6225bc5",
   "metadata": {},
   "outputs": [],
   "source": [
    "#3 There are approximitely 3 web development cohorts for every 1 data science cohort \n",
    "# at Codeup. Assuming that Codeup randomly selects an alumni to put on a billboard, what\n",
    "# are the odds that the two billboards I drive past both have data science students on them?"
   ]
  },
  {
   "cell_type": "code",
   "execution_count": 9,
   "id": "7a24bbeb",
   "metadata": {},
   "outputs": [
    {
     "data": {
      "text/plain": [
       "0.0637"
      ]
     },
     "execution_count": 9,
     "metadata": {},
     "output_type": "execute_result"
    }
   ],
   "source": [
    "cohort_percent = 1/4\n",
    "n_cols = 2\n",
    "n_rows = 10000\n",
    "\n",
    "trials = np.random.random((n_rows,n_cols))\n",
    "data_student = trials < cohort_percent\n",
    "\n",
    "odds_of_two = (data_student.sum(axis=1)==2)\n",
    "odds_of_two.mean()"
   ]
  },
  {
   "cell_type": "markdown",
   "id": "31c77a99",
   "metadata": {},
   "source": [
    "# Exercise #4"
   ]
  },
  {
   "cell_type": "code",
   "execution_count": 10,
   "id": "f20233e6",
   "metadata": {},
   "outputs": [],
   "source": [
    "#4 Codeup students buy, on average, 3 poptart packages with a standard deviation of 1.5 a day \n",
    "#from the snack vending machine. If on monday the machine is restocked with 17 poptart packages, \n",
    "#how likely is it that I will be able to buy some poptarts on Friday afternoon? (Remember, if you \n",
    "#have mean and standard deviation, use the np.random.normal)"
   ]
  },
  {
   "cell_type": "code",
   "execution_count": 11,
   "id": "7c38cb6c",
   "metadata": {},
   "outputs": [
    {
     "data": {
      "text/plain": [
       "0.3842"
      ]
     },
     "execution_count": 11,
     "metadata": {},
     "output_type": "execute_result"
    }
   ],
   "source": [
    "avg_per_day = 3\n",
    "std = 1.5\n",
    "n_cols = 5\n",
    "n_rows = 10000\n",
    "pt_max = 17\n",
    "\n",
    "trials = np.random.normal(avg_per_day,std, size = (n_rows, n_cols))\n",
    "bought = trials.sum(axis=1)\n",
    "for_sale = 17 - bought\n",
    "can_i_have_one = for_sale<=1\n",
    "can_i_have_one.mean()\n"
   ]
  },
  {
   "cell_type": "markdown",
   "id": "8aa19835",
   "metadata": {},
   "source": [
    "# Exercise #5"
   ]
  },
  {
   "cell_type": "code",
   "execution_count": 12,
   "id": "96235dca",
   "metadata": {},
   "outputs": [],
   "source": [
    "#5 Compare Heights\n",
    "# -Men have an average height of 178 cm and standard deviation of 8cm.\n",
    "# -Women have a mean of 170, sd = 6cm.\n",
    "# -Since you have means and standard deviations, you can use np.random.normal to generate observations.\n",
    "# -If a man and woman are chosen at random, P(woman taller than man)?"
   ]
  },
  {
   "cell_type": "code",
   "execution_count": 13,
   "id": "1c5ee908",
   "metadata": {},
   "outputs": [
    {
     "data": {
      "text/plain": [
       "0    0.2123\n",
       "dtype: float64"
      ]
     },
     "execution_count": 13,
     "metadata": {},
     "output_type": "execute_result"
    }
   ],
   "source": [
    "men_avg = 178\n",
    "men_std = 8\n",
    "wmn_avg = 170\n",
    "wmn_std = 6\n",
    "\n",
    "n_cols = 1\n",
    "n_rows = 10000\n",
    "\n",
    "men_trials = pd.DataFrame(np.random.normal(men_avg,men_std,size=(n_rows,n_cols)))\n",
    "wmn_trials = pd.DataFrame(np.random.normal(wmn_avg,wmn_std,size=(n_rows,n_cols)))\n",
    "\n",
    "taller_wmn = wmn_trials > men_trials\n",
    "taller_wmn.mean()"
   ]
  },
  {
   "cell_type": "markdown",
   "id": "17ad4c8a",
   "metadata": {},
   "source": [
    "# Exercise #6"
   ]
  },
  {
   "cell_type": "code",
   "execution_count": 14,
   "id": "bd9cb3eb",
   "metadata": {},
   "outputs": [],
   "source": [
    "#6a. When installing anaconda on a student's computer, there's a 1 in 250 chance that the download is corrupted \n",
    "# and the installation fails. What are the odds that after having 50 students download anaconda, no one has an \n",
    "# installation issue? 100 students?"
   ]
  },
  {
   "cell_type": "code",
   "execution_count": 15,
   "id": "80a4f7c6",
   "metadata": {},
   "outputs": [
    {
     "data": {
      "text/plain": [
       "0.81941"
      ]
     },
     "execution_count": 15,
     "metadata": {},
     "output_type": "execute_result"
    }
   ],
   "source": [
    "# 50 students \n",
    "corrupt_odds = 1/250\n",
    "n_cols = 50\n",
    "n_rows = 100000\n",
    "\n",
    "trials = np.random.random((n_rows, n_cols))\n",
    "oh_no = trials < corrupt_odds\n",
    "yay = (oh_no.sum(axis=1)) == 0\n",
    "yay.mean()"
   ]
  },
  {
   "cell_type": "code",
   "execution_count": 16,
   "id": "00d30f2d",
   "metadata": {},
   "outputs": [
    {
     "data": {
      "text/plain": [
       "0.67008"
      ]
     },
     "execution_count": 16,
     "metadata": {},
     "output_type": "execute_result"
    }
   ],
   "source": [
    "# 100 students \n",
    "corrupt_odds = 1/250\n",
    "n_cols = 100\n",
    "n_rows = 100000\n",
    "\n",
    "trials = np.random.random((n_rows, n_cols))\n",
    "oh_no = trials < corrupt_odds\n",
    "yay = (oh_no.sum(axis=1)) == 0\n",
    "yay.mean()"
   ]
  },
  {
   "cell_type": "code",
   "execution_count": 17,
   "id": "f54da8c2",
   "metadata": {},
   "outputs": [
    {
     "data": {
      "text/plain": [
       "0.45252"
      ]
     },
     "execution_count": 17,
     "metadata": {},
     "output_type": "execute_result"
    }
   ],
   "source": [
    "#6b. What is the probability that we observe an installation issue within the first 150 students that \n",
    "# download anaconda?\n",
    "\n",
    "# 150 students with issues\n",
    "corrupt_odds = 1/250\n",
    "n_cols = 150\n",
    "n_rows = 100000\n",
    "\n",
    "trials = np.random.random((n_rows, n_cols))\n",
    "oh_no = trials < corrupt_odds\n",
    "ugh = (oh_no.sum(axis=1)) > 0\n",
    "ugh.mean()"
   ]
  },
  {
   "cell_type": "code",
   "execution_count": 18,
   "id": "89ab2733",
   "metadata": {},
   "outputs": [
    {
     "data": {
      "text/plain": [
       "0.16387"
      ]
     },
     "execution_count": 18,
     "metadata": {},
     "output_type": "execute_result"
    }
   ],
   "source": [
    "#6c. How likely is it that 450 students all download anaconda without an issue?\n",
    "\n",
    "# 450 students with no issues\n",
    "corrupt_odds = 1/250\n",
    "n_cols = 450\n",
    "n_rows = 100000\n",
    "\n",
    "trials = np.random.random((n_rows, n_cols))\n",
    "oh_no = trials < corrupt_odds\n",
    "ugh = (oh_no.sum(axis=1)) == 0\n",
    "ugh.mean() \n"
   ]
  },
  {
   "cell_type": "markdown",
   "id": "e77b83fd",
   "metadata": {},
   "source": [
    "# Exercise #7"
   ]
  },
  {
   "cell_type": "code",
   "execution_count": 19,
   "id": "f4b2a86c",
   "metadata": {},
   "outputs": [
    {
     "data": {
      "text/plain": [
       "0.0267"
      ]
     },
     "execution_count": 19,
     "metadata": {},
     "output_type": "execute_result"
    }
   ],
   "source": [
    "#7a. There's a 70% chance on any given day that there will be at least one food truck at Travis Park. However, \n",
    "# you haven't seen a food truck there in 3 days. How unlikely is this?\n",
    "\n",
    "odds_of_truck = 7/10\n",
    "n_cols = 3 \n",
    "n_rows = 10000\n",
    "\n",
    "trials = np.random.random((n_rows, n_cols))\n",
    "truck = trials < odds_of_truck\n",
    "no_truck = truck.sum(axis=1) == 0\n",
    "no_truck.mean()"
   ]
  },
  {
   "cell_type": "code",
   "execution_count": 20,
   "id": "29a4823f",
   "metadata": {},
   "outputs": [
    {
     "data": {
      "text/plain": [
       "0.9099"
      ]
     },
     "execution_count": 20,
     "metadata": {},
     "output_type": "execute_result"
    }
   ],
   "source": [
    "#7b. How likely is it that a food truck will show up sometime this week?\n",
    "\n",
    "odds_of_truck = 7/10\n",
    "n_cols = 2\n",
    "n_rows = 10000\n",
    "\n",
    "trials = np.random.random((n_rows, n_cols))\n",
    "truck = trials < odds_of_truck\n",
    "no_truck = truck.sum(axis=1) > 0\n",
    "no_truck.mean()"
   ]
  },
  {
   "cell_type": "markdown",
   "id": "21612b92",
   "metadata": {},
   "source": [
    "# Exercise #8"
   ]
  },
  {
   "cell_type": "code",
   "execution_count": 21,
   "id": "f3ddf78f",
   "metadata": {},
   "outputs": [
    {
     "data": {
      "text/plain": [
       "0.5011086956521739"
      ]
     },
     "execution_count": 21,
     "metadata": {},
     "output_type": "execute_result"
    }
   ],
   "source": [
    "#8 If 23 people are in the same room, what are the odds that two of them share a birthday? \n",
    "\n",
    "\n",
    "b_days = 1/365\n",
    "n_cols = 23\n",
    "n_rows = 10000\n",
    "\n",
    "trials = np.random.choice([0,1],size=(n_rows, n_cols))\n",
    "two_bdays = trials < b_days\n",
    "two_bdays.mean()"
   ]
  },
  {
   "cell_type": "code",
   "execution_count": 22,
   "id": "fe521dfc",
   "metadata": {},
   "outputs": [
    {
     "data": {
      "text/plain": [
       "0.498785"
      ]
     },
     "execution_count": 22,
     "metadata": {},
     "output_type": "execute_result"
    }
   ],
   "source": [
    "# What if it's 20 people?\n",
    "\n",
    "b_days = 1/365\n",
    "n_cols = 20\n",
    "n_rows = 10000\n",
    "\n",
    "trials = np.random.choice([0,1],size=(n_rows, n_cols))\n",
    "two_bdays = trials < b_days\n",
    "two_bdays.mean()"
   ]
  },
  {
   "cell_type": "code",
   "execution_count": 27,
   "id": "66e096eb",
   "metadata": {},
   "outputs": [
    {
     "data": {
      "text/plain": [
       "0.5001625"
      ]
     },
     "execution_count": 27,
     "metadata": {},
     "output_type": "execute_result"
    }
   ],
   "source": [
    "# 40?\n",
    "\n",
    "b_days = 1/365\n",
    "n_cols = 40\n",
    "n_rows = 10000\n",
    "\n",
    "trials = np.random.choice([0,1],size=(n_rows, n_cols))\n",
    "two_bdays = trials < b_days\n",
    "two_bdays.mean()"
   ]
  },
  {
   "cell_type": "code",
   "execution_count": null,
   "id": "9db9ff74",
   "metadata": {},
   "outputs": [],
   "source": []
  }
 ],
 "metadata": {
  "kernelspec": {
   "display_name": "Python 3 (ipykernel)",
   "language": "python",
   "name": "python3"
  },
  "language_info": {
   "codemirror_mode": {
    "name": "ipython",
    "version": 3
   },
   "file_extension": ".py",
   "mimetype": "text/x-python",
   "name": "python",
   "nbconvert_exporter": "python",
   "pygments_lexer": "ipython3",
   "version": "3.9.7"
  }
 },
 "nbformat": 4,
 "nbformat_minor": 5
}
