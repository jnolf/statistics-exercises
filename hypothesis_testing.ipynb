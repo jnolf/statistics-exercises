{
 "cells": [
  {
   "cell_type": "markdown",
   "id": "4e703527",
   "metadata": {},
   "source": [
    "## Overview Exercises\n",
    "\n",
    "### Do your work for this exercise in a jupyter notebook named hypothesis_testing.ipynb.\n",
    "\n",
    "### For each of the following questions, formulate a null and alternative hypothesis (be as specific as you can be), then give an example of what a true positive, true negative, type I and type II errors would look like. Note that some of the questions are intentionally phrased in a vague way. It is your job to reword these as more precise questions that could be tested.\n",
    "\n",
    "#### 1. Has the network latency gone up since we switched internet service providers?\n",
    "\n",
    "Ho: Network lactency has increased since switching ISP's.\n",
    "\n",
    "Ha: Network latency has not increased since switching ISP's.\n",
    "    \n",
    "    \n",
    "True Pos: Came to conclusion that network latency and switching ISP's are related.\n",
    "    \n",
    "True Neg: Came to conclusion that network latency and switching ISP's are not related.\n",
    "    \n",
    "Type I: Predicted that net latency is related to switching ISP's when they actually are not related\n",
    "     \n",
    "Type II: Predicted that net latency is not related to switching ISP's when they actually are related.\n",
    "\n",
    "\n",
    "#### 2. Is the website redesign any good?\n",
    "\n",
    "Ho: The website redesign has increased the conversion rate.\n",
    "\n",
    "Ha: The website redesign has not increased the conversion rate.\n",
    "\n",
    "\n",
    "True Pos: Came to conclusion that conversion rate and redesign are related and they are.\n",
    "\n",
    "True Neg: Came to conclusion that conversion rate and redesign are not related and they are not.  \n",
    "\n",
    "Type I: Predicted that the redesign is related to increase in conversion rate when they actually are not related\n",
    "     \n",
    "Type II: Predicted that the redesign is not related to increase in conversion rate when they actually are related.\n",
    "\n",
    "#### 3. Is our television ad driving more sales?\n",
    "\n",
    "Ho: Sales have increased since the television ad aired.\n",
    "\n",
    "Ha: Sales have not increased since the televison ad aired.\n",
    "\n",
    "\n",
    "True Pos: Came to conclusion that the televison ad and increase in sales are related and they are.\n",
    "\n",
    "True Neg: Came to conclusion that the televison ad and increase in sales are not related and they are not.  \n",
    "\n",
    "Type I: Predicted that the television ad is related to increase in sales when they actually are not related\n",
    "     \n",
    "Type II: Predicted that the television ad is not related to increase in sales when they actually are related."
   ]
  },
  {
   "cell_type": "markdown",
   "id": "cb154792",
   "metadata": {},
   "source": [
    "## T-Test Exercises"
   ]
  },
  {
   "cell_type": "code",
   "execution_count": null,
   "id": "916a9eb8",
   "metadata": {},
   "outputs": [],
   "source": []
  }
 ],
 "metadata": {
  "kernelspec": {
   "display_name": "Python 3 (ipykernel)",
   "language": "python",
   "name": "python3"
  },
  "language_info": {
   "codemirror_mode": {
    "name": "ipython",
    "version": 3
   },
   "file_extension": ".py",
   "mimetype": "text/x-python",
   "name": "python",
   "nbconvert_exporter": "python",
   "pygments_lexer": "ipython3",
   "version": "3.9.7"
  }
 },
 "nbformat": 4,
 "nbformat_minor": 5
}
