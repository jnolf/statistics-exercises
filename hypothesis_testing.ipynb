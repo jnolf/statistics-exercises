{
 "cells": [
  {
   "cell_type": "markdown",
   "id": "4e703527",
   "metadata": {},
   "source": [
    "## Overview Exercises\n",
    "\n",
    "### Do your work for this exercise in a jupyter notebook named hypothesis_testing.ipynb.\n",
    "\n",
    "### For each of the following questions, formulate a null and alternative hypothesis (be as specific as you can be), then give an example of what a true positive, true negative, type I and type II errors would look like. Note that some of the questions are intentionally phrased in a vague way. It is your job to reword these as more precise questions that could be tested.\n",
    "\n",
    "#### 1. Has the network latency gone up since we switched internet service providers?\n",
    "\n",
    "Ho: Network lactency has increased since switching ISP's.\n",
    "\n",
    "Ha: Network latency has not increased since switching ISP's.\n",
    "    \n",
    "    \n",
    "True Pos: Came to conclusion that network latency and switching ISP's are related.\n",
    "    \n",
    "True Neg: Came to conclusion that network latency and switching ISP's are not related.\n",
    "    \n",
    "Type I: Predicted that net latency is related to switching ISP's when they actually are not related\n",
    "     \n",
    "Type II: Predicted that net latency is not related to switching ISP's when they actually are related.\n",
    "\n",
    "\n",
    "#### 2. Is the website redesign any good?\n",
    "\n",
    "Ho: The website redesign has increased the conversion rate.\n",
    "\n",
    "Ha: The website redesign has not increased the conversion rate.\n",
    "\n",
    "\n",
    "True Pos: Came to conclusion that conversion rate and redesign are related and they are.\n",
    "\n",
    "True Neg: Came to conclusion that conversion rate and redesign are not related and they are not.  \n",
    "\n",
    "Type I: Predicted that the redesign is related to increase in conversion rate when they actually are not related\n",
    "     \n",
    "Type II: Predicted that the redesign is not related to increase in conversion rate when they actually are related.\n",
    "\n",
    "#### 3. Is our television ad driving more sales?\n",
    "\n",
    "Ho: Sales have increased since the television ad aired.\n",
    "\n",
    "Ha: Sales have not increased since the televison ad aired.\n",
    "\n",
    "\n",
    "True Pos: Came to conclusion that the televison ad and increase in sales are related and they are.\n",
    "\n",
    "True Neg: Came to conclusion that the televison ad and increase in sales are not related and they are not.  \n",
    "\n",
    "Type I: Predicted that the television ad is related to increase in sales when they actually are not related\n",
    "     \n",
    "Type II: Predicted that the television ad is not related to increase in sales when they actually are related."
   ]
  },
  {
   "cell_type": "markdown",
   "id": "cb154792",
   "metadata": {},
   "source": [
    "## T-Test Exercises"
   ]
  },
  {
   "cell_type": "code",
   "execution_count": 8,
   "id": "e4ebfdd6",
   "metadata": {},
   "outputs": [],
   "source": [
    "import matplotlib.pyplot as plt\n",
    "import numpy as np\n",
    "import seaborn as sns\n",
    "import scipy.stats as stats\n",
    "import pandas as pd\n",
    "np.random.seed(123)"
   ]
  },
  {
   "cell_type": "markdown",
   "id": "9f821e86",
   "metadata": {},
   "source": [
    "### Ace Realty wants to determine whether the average time it takes to sell homes is different for its two offices. \n",
    "\n",
    "#### - A sample of 40 sales from office #1 revealed a mean of 90 days and a standard deviation of 15 days. \n",
    "\n",
    "#### - A sample of 50 sales from office #2 revealed a mean of 100 days and a standard deviation of 20 days. Use a .05 level of significance"
   ]
  },
  {
   "cell_type": "code",
   "execution_count": 45,
   "id": "bc788955",
   "metadata": {},
   "outputs": [],
   "source": [
    "# Office 1\n",
    "mean1 = 90\n",
    "std1 = 15\n",
    "sales1 = 40\n",
    "\n",
    "# Office 2\n",
    "mean1 = 100\n",
    "std2 = 20\n",
    "sales1 = 50\n",
    "\n",
    "alpha = .05"
   ]
  },
  {
   "cell_type": "code",
   "execution_count": 47,
   "id": "407fca37",
   "metadata": {
    "scrolled": true
   },
   "outputs": [
    {
     "data": {
      "text/plain": [
       "<AxesSubplot:>"
      ]
     },
     "execution_count": 47,
     "metadata": {},
     "output_type": "execute_result"
    },
    {
     "data": {
      "image/png": "[encoded data removed]",
      "text/plain": [
       "<Figure size 432x288 with 1 Axes>"
      ]
     },
     "metadata": {
      "needs_background": "light"
     },
     "output_type": "display_data"
    }
   ],
   "source": [
    "# Plot a histogram of both?\n",
    "office1 = pd.Series(stats.norm(90,15).rvs(40))\n",
    "office1.hist()\n",
    "\n",
    "office2 = pd.Series(stats.norm(100,20).rvs(50))\n",
    "office2.hist()\n"
   ]
  },
  {
   "cell_type": "code",
   "execution_count": 14,
   "id": "73cab293",
   "metadata": {},
   "outputs": [
    {
     "data": {
      "text/plain": [
       "<matplotlib.legend.Legend at 0x7f8c29531490>"
      ]
     },
     "execution_count": 14,
     "metadata": {},
     "output_type": "execute_result"
    },
    {
     "data": {
      "image/png": "[encoded data removed]",
      "text/plain": [
       "<Figure size 432x288 with 1 Axes>"
      ]
     },
     "metadata": {
      "needs_background": "light"
     },
     "output_type": "display_data"
    }
   ],
   "source": [
    "x = np.arange(50, 150)\n",
    "\n",
    "y1 = stats.norm(90, 15).pdf(x)\n",
    "y2 = stats.norm(100, 20).pdf(x)\n",
    "\n",
    "\n",
    "plt.plot(x, y1, c='blue', label = 'Office 1')\n",
    "plt.plot(x, y2, c='orange', label = 'Office 2')\n",
    "\n",
    "\n",
    "plt.ylabel('%')\n",
    "plt.xlabel('Number of Days')\n",
    "plt.title('Average Number of Days to Sell Home')\n",
    "plt.legend()"
   ]
  },
  {
   "cell_type": "code",
   "execution_count": null,
   "id": "40190da7",
   "metadata": {},
   "outputs": [],
   "source": [
    "# Hypothesis:\n",
    "\n",
    "# H0 = There is no difference between the average sale time it takes \n",
    "# to sell homes between Office #1 and Office #2.\n",
    "\n",
    "# Ha = There is a difference between the average sale time it takes \n",
    "# to sell homes between Office #1 and Office #2.\n",
    "\n"
   ]
  },
  {
   "cell_type": "code",
   "execution_count": 41,
   "id": "ca442120",
   "metadata": {},
   "outputs": [
    {
     "data": {
      "text/plain": [
       "False"
      ]
     },
     "execution_count": 41,
     "metadata": {},
     "output_type": "execute_result"
    }
   ],
   "source": [
    "# Assumptions:\n",
    "\n",
    "# Normal Dist?\n",
    "# Independent?\n",
    "# Variance? \n",
    "var1 = std1 ** .5\n",
    "var2 = std2 ** .5\n",
    "\n",
    "var1 == var2"
   ]
  },
  {
   "cell_type": "code",
   "execution_count": 48,
   "id": "abaab755",
   "metadata": {},
   "outputs": [
    {
     "data": {
      "text/plain": [
       "(-2.7091418459143854, 0.00811206270346016)"
      ]
     },
     "execution_count": 48,
     "metadata": {},
     "output_type": "execute_result"
    }
   ],
   "source": [
    "# T-Test\n",
    "t, p = stats.ttest_ind_from_stats(90,15,40,100,20,50, equal_var= False)\n",
    "t,p\n"
   ]
  },
  {
   "cell_type": "code",
   "execution_count": 71,
   "id": "dfd4b352",
   "metadata": {},
   "outputs": [
    {
     "name": "stdout",
     "output_type": "stream",
     "text": [
      "Reject H0!\n"
     ]
    }
   ],
   "source": [
    "#Reject of fail to reject\n",
    "\n",
    "if p < alpha:\n",
    "    print('Reject H0!')\n",
    "else:\n",
    "    print('Fail to reject H0!')"
   ]
  },
  {
   "cell_type": "markdown",
   "id": "1fd502f0",
   "metadata": {},
   "source": [
    "### Cars Cars Cars!!! "
   ]
  },
  {
   "cell_type": "code",
   "execution_count": 2,
   "id": "b932475f",
   "metadata": {},
   "outputs": [],
   "source": [
    "from pydataset import data\n",
    "mpg = data('mpg')"
   ]
  },
  {
   "cell_type": "code",
   "execution_count": 3,
   "id": "cb84cd21",
   "metadata": {},
   "outputs": [
    {
     "data": {
      "text/html": [
       "<div>\n",
       "<style scoped>\n",
       "    .dataframe tbody tr th:only-of-type {\n",
       "        vertical-align: middle;\n",
       "    }\n",
       "\n",
       "    .dataframe tbody tr th {\n",
       "        vertical-align: top;\n",
       "    }\n",
       "\n",
       "    .dataframe thead th {\n",
       "        text-align: right;\n",
       "    }\n",
       "</style>\n",
       "<table border=\"1\" class=\"dataframe\">\n",
       "  <thead>\n",
       "    <tr style=\"text-align: right;\">\n",
       "      <th></th>\n",
       "      <th>manufacturer</th>\n",
       "      <th>model</th>\n",
       "      <th>displ</th>\n",
       "      <th>year</th>\n",
       "      <th>cyl</th>\n",
       "      <th>trans</th>\n",
       "      <th>drv</th>\n",
       "      <th>cty</th>\n",
       "      <th>hwy</th>\n",
       "      <th>fl</th>\n",
       "      <th>class</th>\n",
       "    </tr>\n",
       "  </thead>\n",
       "  <tbody>\n",
       "    <tr>\n",
       "      <th>1</th>\n",
       "      <td>audi</td>\n",
       "      <td>a4</td>\n",
       "      <td>1.8</td>\n",
       "      <td>1999</td>\n",
       "      <td>4</td>\n",
       "      <td>auto(l5)</td>\n",
       "      <td>f</td>\n",
       "      <td>18</td>\n",
       "      <td>29</td>\n",
       "      <td>p</td>\n",
       "      <td>compact</td>\n",
       "    </tr>\n",
       "    <tr>\n",
       "      <th>2</th>\n",
       "      <td>audi</td>\n",
       "      <td>a4</td>\n",
       "      <td>1.8</td>\n",
       "      <td>1999</td>\n",
       "      <td>4</td>\n",
       "      <td>manual(m5)</td>\n",
       "      <td>f</td>\n",
       "      <td>21</td>\n",
       "      <td>29</td>\n",
       "      <td>p</td>\n",
       "      <td>compact</td>\n",
       "    </tr>\n",
       "    <tr>\n",
       "      <th>3</th>\n",
       "      <td>audi</td>\n",
       "      <td>a4</td>\n",
       "      <td>2.0</td>\n",
       "      <td>2008</td>\n",
       "      <td>4</td>\n",
       "      <td>manual(m6)</td>\n",
       "      <td>f</td>\n",
       "      <td>20</td>\n",
       "      <td>31</td>\n",
       "      <td>p</td>\n",
       "      <td>compact</td>\n",
       "    </tr>\n",
       "    <tr>\n",
       "      <th>4</th>\n",
       "      <td>audi</td>\n",
       "      <td>a4</td>\n",
       "      <td>2.0</td>\n",
       "      <td>2008</td>\n",
       "      <td>4</td>\n",
       "      <td>auto(av)</td>\n",
       "      <td>f</td>\n",
       "      <td>21</td>\n",
       "      <td>30</td>\n",
       "      <td>p</td>\n",
       "      <td>compact</td>\n",
       "    </tr>\n",
       "    <tr>\n",
       "      <th>5</th>\n",
       "      <td>audi</td>\n",
       "      <td>a4</td>\n",
       "      <td>2.8</td>\n",
       "      <td>1999</td>\n",
       "      <td>6</td>\n",
       "      <td>auto(l5)</td>\n",
       "      <td>f</td>\n",
       "      <td>16</td>\n",
       "      <td>26</td>\n",
       "      <td>p</td>\n",
       "      <td>compact</td>\n",
       "    </tr>\n",
       "  </tbody>\n",
       "</table>\n",
       "</div>"
      ],
      "text/plain": [
       "  manufacturer model  displ  year  cyl       trans drv  cty  hwy fl    class\n",
       "1         audi    a4    1.8  1999    4    auto(l5)   f   18   29  p  compact\n",
       "2         audi    a4    1.8  1999    4  manual(m5)   f   21   29  p  compact\n",
       "3         audi    a4    2.0  2008    4  manual(m6)   f   20   31  p  compact\n",
       "4         audi    a4    2.0  2008    4    auto(av)   f   21   30  p  compact\n",
       "5         audi    a4    2.8  1999    6    auto(l5)   f   16   26  p  compact"
      ]
     },
     "execution_count": 3,
     "metadata": {},
     "output_type": "execute_result"
    }
   ],
   "source": [
    "mpg.head()"
   ]
  },
  {
   "cell_type": "markdown",
   "id": "d3c16922",
   "metadata": {},
   "source": [
    "### Is there a difference in fuel-efficiency in cars from 2008 vs 1999?"
   ]
  },
  {
   "cell_type": "code",
   "execution_count": 80,
   "id": "58494bdf",
   "metadata": {},
   "outputs": [
    {
     "data": {
      "text/html": [
       "<div>\n",
       "<style scoped>\n",
       "    .dataframe tbody tr th:only-of-type {\n",
       "        vertical-align: middle;\n",
       "    }\n",
       "\n",
       "    .dataframe tbody tr th {\n",
       "        vertical-align: top;\n",
       "    }\n",
       "\n",
       "    .dataframe thead th {\n",
       "        text-align: right;\n",
       "    }\n",
       "</style>\n",
       "<table border=\"1\" class=\"dataframe\">\n",
       "  <thead>\n",
       "    <tr style=\"text-align: right;\">\n",
       "      <th></th>\n",
       "      <th>manufacturer</th>\n",
       "      <th>model</th>\n",
       "      <th>displ</th>\n",
       "      <th>year</th>\n",
       "      <th>cyl</th>\n",
       "      <th>trans</th>\n",
       "      <th>drv</th>\n",
       "      <th>cty</th>\n",
       "      <th>hwy</th>\n",
       "      <th>fl</th>\n",
       "      <th>class</th>\n",
       "      <th>avg_mph</th>\n",
       "      <th>avg_mpg</th>\n",
       "    </tr>\n",
       "  </thead>\n",
       "  <tbody>\n",
       "    <tr>\n",
       "      <th>1</th>\n",
       "      <td>audi</td>\n",
       "      <td>a4</td>\n",
       "      <td>1.8</td>\n",
       "      <td>1999</td>\n",
       "      <td>4</td>\n",
       "      <td>auto(l5)</td>\n",
       "      <td>f</td>\n",
       "      <td>18</td>\n",
       "      <td>29</td>\n",
       "      <td>p</td>\n",
       "      <td>compact</td>\n",
       "      <td>23.5</td>\n",
       "      <td>23.5</td>\n",
       "    </tr>\n",
       "    <tr>\n",
       "      <th>2</th>\n",
       "      <td>audi</td>\n",
       "      <td>a4</td>\n",
       "      <td>1.8</td>\n",
       "      <td>1999</td>\n",
       "      <td>4</td>\n",
       "      <td>manual(m5)</td>\n",
       "      <td>f</td>\n",
       "      <td>21</td>\n",
       "      <td>29</td>\n",
       "      <td>p</td>\n",
       "      <td>compact</td>\n",
       "      <td>25.0</td>\n",
       "      <td>25.0</td>\n",
       "    </tr>\n",
       "    <tr>\n",
       "      <th>3</th>\n",
       "      <td>audi</td>\n",
       "      <td>a4</td>\n",
       "      <td>2.0</td>\n",
       "      <td>2008</td>\n",
       "      <td>4</td>\n",
       "      <td>manual(m6)</td>\n",
       "      <td>f</td>\n",
       "      <td>20</td>\n",
       "      <td>31</td>\n",
       "      <td>p</td>\n",
       "      <td>compact</td>\n",
       "      <td>25.5</td>\n",
       "      <td>25.5</td>\n",
       "    </tr>\n",
       "    <tr>\n",
       "      <th>4</th>\n",
       "      <td>audi</td>\n",
       "      <td>a4</td>\n",
       "      <td>2.0</td>\n",
       "      <td>2008</td>\n",
       "      <td>4</td>\n",
       "      <td>auto(av)</td>\n",
       "      <td>f</td>\n",
       "      <td>21</td>\n",
       "      <td>30</td>\n",
       "      <td>p</td>\n",
       "      <td>compact</td>\n",
       "      <td>25.5</td>\n",
       "      <td>25.5</td>\n",
       "    </tr>\n",
       "    <tr>\n",
       "      <th>5</th>\n",
       "      <td>audi</td>\n",
       "      <td>a4</td>\n",
       "      <td>2.8</td>\n",
       "      <td>1999</td>\n",
       "      <td>6</td>\n",
       "      <td>auto(l5)</td>\n",
       "      <td>f</td>\n",
       "      <td>16</td>\n",
       "      <td>26</td>\n",
       "      <td>p</td>\n",
       "      <td>compact</td>\n",
       "      <td>21.0</td>\n",
       "      <td>21.0</td>\n",
       "    </tr>\n",
       "  </tbody>\n",
       "</table>\n",
       "</div>"
      ],
      "text/plain": [
       "  manufacturer model  displ  year  cyl       trans drv  cty  hwy fl    class  \\\n",
       "1         audi    a4    1.8  1999    4    auto(l5)   f   18   29  p  compact   \n",
       "2         audi    a4    1.8  1999    4  manual(m5)   f   21   29  p  compact   \n",
       "3         audi    a4    2.0  2008    4  manual(m6)   f   20   31  p  compact   \n",
       "4         audi    a4    2.0  2008    4    auto(av)   f   21   30  p  compact   \n",
       "5         audi    a4    2.8  1999    6    auto(l5)   f   16   26  p  compact   \n",
       "\n",
       "   avg_mph  avg_mpg  \n",
       "1     23.5     23.5  \n",
       "2     25.0     25.0  \n",
       "3     25.5     25.5  \n",
       "4     25.5     25.5  \n",
       "5     21.0     21.0  "
      ]
     },
     "execution_count": 80,
     "metadata": {},
     "output_type": "execute_result"
    }
   ],
   "source": [
    "# Avg of Cty and Hwy = avg_mpg\n",
    "mpg['avg_mpg'] = (mpg['cty'] + mpg['hwy'])/2\n",
    "mpg.head()"
   ]
  },
  {
   "cell_type": "code",
   "execution_count": 81,
   "id": "b6a0b1b9",
   "metadata": {},
   "outputs": [],
   "source": [
    "# Specify cars from 2008 and 1999\n",
    "cars_2008 = mpg[mpg.year == 2008].avg_mpg\n",
    "cars_1999 = mpg[mpg.year == 1999].avg_mpg"
   ]
  },
  {
   "cell_type": "code",
   "execution_count": 82,
   "id": "53cc927a",
   "metadata": {
    "scrolled": true
   },
   "outputs": [
    {
     "data": {
      "text/plain": [
       "<AxesSubplot:>"
      ]
     },
     "execution_count": 82,
     "metadata": {},
     "output_type": "execute_result"
    },
    {
     "data": {
      "image/png": "[encoded data removed]",
      "text/plain": [
       "<Figure size 432x288 with 1 Axes>"
      ]
     },
     "metadata": {
      "needs_background": "light"
     },
     "output_type": "display_data"
    }
   ],
   "source": [
    "#Hist\n",
    "cars_2008.hist()"
   ]
  },
  {
   "cell_type": "code",
   "execution_count": 83,
   "id": "5c6e27c7",
   "metadata": {},
   "outputs": [
    {
     "data": {
      "text/plain": [
       "<AxesSubplot:>"
      ]
     },
     "execution_count": 83,
     "metadata": {},
     "output_type": "execute_result"
    },
    {
     "data": {
      "image/png": "[encoded data removed]",
      "text/plain": [
       "<Figure size 432x288 with 1 Axes>"
      ]
     },
     "metadata": {
      "needs_background": "light"
     },
     "output_type": "display_data"
    }
   ],
   "source": [
    "#Hist\n",
    "cars_1999.hist()"
   ]
  },
  {
   "cell_type": "code",
   "execution_count": null,
   "id": "3c37b35c",
   "metadata": {},
   "outputs": [],
   "source": [
    "# Set Hypothesis:\n",
    "\n",
    "# H0: Average MPG for 2008 cars = average mpg for 1999 cars.\n",
    "# Ha: Average Mpg for 2008 cars > average mpg for 1999 cars."
   ]
  },
  {
   "cell_type": "code",
   "execution_count": 86,
   "id": "c04af475",
   "metadata": {},
   "outputs": [
    {
     "data": {
      "text/plain": [
       "(117, 117)"
      ]
     },
     "execution_count": 86,
     "metadata": {},
     "output_type": "execute_result"
    }
   ],
   "source": [
    "# How big is the sample size? >30?\n",
    "cars_2008.count(), cars_1999.count()"
   ]
  },
  {
   "cell_type": "code",
   "execution_count": 85,
   "id": "66582eb5",
   "metadata": {},
   "outputs": [
    {
     "data": {
      "text/plain": [
       "(24.097480106100797, 27.122605363984682)"
      ]
     },
     "execution_count": 85,
     "metadata": {},
     "output_type": "execute_result"
    }
   ],
   "source": [
    "# Variance? Yep.\n",
    "cars_2008.var(), cars_1999.var()"
   ]
  },
  {
   "cell_type": "code",
   "execution_count": 89,
   "id": "3548174a",
   "metadata": {},
   "outputs": [
    {
     "data": {
      "text/plain": [
       "(-0.21960177245940962, 0.4131875386030319, 0.05)"
      ]
     },
     "execution_count": 89,
     "metadata": {},
     "output_type": "execute_result"
    }
   ],
   "source": [
    "alpha = .05\n",
    "\n",
    "t, p = stats.ttest_ind(cars_2008, cars_1999, equal_var=False)\n",
    "\n",
    "t, p/2, alpha"
   ]
  },
  {
   "cell_type": "code",
   "execution_count": 90,
   "id": "8f348ffd",
   "metadata": {},
   "outputs": [
    {
     "name": "stdout",
     "output_type": "stream",
     "text": [
      "is p/2 < alpha? False\n",
      "is t>0? False\n"
     ]
    }
   ],
   "source": [
    "print('is p/2 < alpha?', p/2 < alpha)\n",
    "print('is t>0?', t>0)"
   ]
  },
  {
   "cell_type": "code",
   "execution_count": 91,
   "id": "2f1afc12",
   "metadata": {},
   "outputs": [
    {
     "name": "stdout",
     "output_type": "stream",
     "text": [
      "We fail to reject the null hypothesis\n"
     ]
    }
   ],
   "source": [
    "if (p/2 < alpha) & (t > 0):\n",
    "    print(\"We reject the null hypothesis\")\n",
    "else:\n",
    "    print(\"We fail to reject the null hypothesis\")"
   ]
  },
  {
   "cell_type": "code",
   "execution_count": null,
   "id": "f690f568",
   "metadata": {},
   "outputs": [],
   "source": []
  }
 ],
 "metadata": {
  "kernelspec": {
   "display_name": "Python 3 (ipykernel)",
   "language": "python",
   "name": "python3"
  },
  "language_info": {
   "codemirror_mode": {
    "name": "ipython",
    "version": 3
   },
   "file_extension": ".py",
   "mimetype": "text/x-python",
   "name": "python",
   "nbconvert_exporter": "python",
   "pygments_lexer": "ipython3",
   "version": "3.9.7"
  }
 },
 "nbformat": 4,
 "nbformat_minor": 5
}
