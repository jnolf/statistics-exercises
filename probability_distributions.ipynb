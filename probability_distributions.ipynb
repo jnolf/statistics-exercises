{
 "cells": [
  {
   "cell_type": "code",
   "execution_count": 127,
   "id": "de905b38",
   "metadata": {},
   "outputs": [],
   "source": [
    "#Imports\n",
    "import numpy as np\n",
    "import pandas as pd\n",
    "from scipy import stats\n",
    "from scipy.stats import norm, binom \n",
    "import matplotlib.pyplot as plt\n"
   ]
  },
  {
   "cell_type": "markdown",
   "id": "e82621c5",
   "metadata": {},
   "source": [
    "### 1.) A bank found that the average number of cars waiting during the noon hour at a drive-up window follows a Poisson distribution with a mean of 2 cars. Make a chart of this distribution and answer these questions concerning the probability of cars waiting at the drive-up window."
   ]
  },
  {
   "cell_type": "code",
   "execution_count": 34,
   "id": "d2569e9f",
   "metadata": {},
   "outputs": [
    {
     "data": {
      "image/png": "[encoded data removed]",
      "text/plain": [
       "<Figure size 432x288 with 1 Axes>"
      ]
     },
     "metadata": {
      "needs_background": "light"
     },
     "output_type": "display_data"
    }
   ],
   "source": [
    "pd.Series(stats.poisson(2).rvs(10000)).value_counts().sort_index().plot.bar()\n",
    "\n",
    "plt.title('Poisson Representing Average Cars Waiting During Noon Hour')\n",
    "plt.ylabel('How Many Cars')\n",
    "plt.show()"
   ]
  },
  {
   "cell_type": "markdown",
   "id": "4295cdb9",
   "metadata": {},
   "source": [
    "### What is the probability that no cars drive up in the noon hour?"
   ]
  },
  {
   "cell_type": "code",
   "execution_count": 20,
   "id": "87846e5a",
   "metadata": {},
   "outputs": [
    {
     "data": {
      "text/plain": [
       "0.1353352832366127"
      ]
     },
     "execution_count": 20,
     "metadata": {},
     "output_type": "execute_result"
    }
   ],
   "source": [
    "avg_cars_waiting = 2\n",
    "\n",
    "\n",
    "stats.poisson(avg_cars_waiting).pmf(0)"
   ]
  },
  {
   "cell_type": "code",
   "execution_count": 359,
   "id": "ea8a1796",
   "metadata": {},
   "outputs": [
    {
     "data": {
      "text/plain": [
       "0.1355"
      ]
     },
     "execution_count": 359,
     "metadata": {},
     "output_type": "execute_result"
    }
   ],
   "source": [
    "# Sim\n",
    "(np.random.poisson(2, size=(10_000))<1).mean()"
   ]
  },
  {
   "cell_type": "markdown",
   "id": "d5f45a04",
   "metadata": {},
   "source": [
    "### What is the probability that 3 or more cars come through the drive through?"
   ]
  },
  {
   "cell_type": "code",
   "execution_count": 39,
   "id": "21cde60b",
   "metadata": {},
   "outputs": [
    {
     "data": {
      "text/plain": [
       "0.32332358381693654"
      ]
     },
     "execution_count": 39,
     "metadata": {},
     "output_type": "execute_result"
    }
   ],
   "source": [
    "stats.poisson(avg_cars_waiting).sf(2)"
   ]
  },
  {
   "cell_type": "code",
   "execution_count": 197,
   "id": "2bf159cf",
   "metadata": {},
   "outputs": [
    {
     "data": {
      "text/plain": [
       "0.3261"
      ]
     },
     "execution_count": 197,
     "metadata": {},
     "output_type": "execute_result"
    }
   ],
   "source": [
    "# Sim\n",
    "n_cars = np.random.poisson(2, size=(10_000))\n",
    "(n_cars >= 3).mean()"
   ]
  },
  {
   "cell_type": "code",
   "execution_count": 360,
   "id": "42045e6c",
   "metadata": {},
   "outputs": [
    {
     "data": {
      "text/plain": [
       "0.3201"
      ]
     },
     "execution_count": 360,
     "metadata": {},
     "output_type": "execute_result"
    }
   ],
   "source": [
    "# More efficient\n",
    "(np.random.poisson(2, size=(10_000))>2).mean()"
   ]
  },
  {
   "cell_type": "markdown",
   "id": "c39d4073",
   "metadata": {},
   "source": [
    "### How likely is it that the drive through gets at least 1 car?"
   ]
  },
  {
   "cell_type": "code",
   "execution_count": 38,
   "id": "902395ed",
   "metadata": {},
   "outputs": [
    {
     "data": {
      "text/plain": [
       "0.8646647167633873"
      ]
     },
     "execution_count": 38,
     "metadata": {},
     "output_type": "execute_result"
    }
   ],
   "source": [
    "#1c.) How likely is it that the drive through gets at least 1 car?\n",
    "stats.poisson(avg_cars_waiting).sf(0)"
   ]
  },
  {
   "cell_type": "code",
   "execution_count": 198,
   "id": "21b26960",
   "metadata": {},
   "outputs": [
    {
     "data": {
      "text/plain": [
       "0.8641"
      ]
     },
     "execution_count": 198,
     "metadata": {},
     "output_type": "execute_result"
    }
   ],
   "source": [
    "# Sim\n",
    "n_cars = np.random.poisson(2, size=(10_000))\n",
    "(n_cars >= 1).mean()"
   ]
  },
  {
   "cell_type": "code",
   "execution_count": 361,
   "id": "3a8f278c",
   "metadata": {},
   "outputs": [
    {
     "data": {
      "text/plain": [
       "0.8631"
      ]
     },
     "execution_count": 361,
     "metadata": {},
     "output_type": "execute_result"
    }
   ],
   "source": [
    "# More efficient\n",
    "(np.random.poisson(2, size=(10_000))>0).mean()"
   ]
  },
  {
   "cell_type": "markdown",
   "id": "49a7d52b",
   "metadata": {},
   "source": [
    "### 2.) Grades of State University graduates are normally distributed with a mean of 3.0 and a standard deviation of .3. Calculate the following:"
   ]
  },
  {
   "cell_type": "code",
   "execution_count": 389,
   "id": "0d81d198",
   "metadata": {},
   "outputs": [
    {
     "data": {
      "image/png": "[encoded data removed]",
      "text/plain": [
       "<Figure size 432x288 with 1 Axes>"
      ]
     },
     "metadata": {
      "needs_background": "light"
     },
     "output_type": "display_data"
    }
   ],
   "source": [
    "pd.Series(stats.norm(3, .3).rvs(10000)).sort_values().plot.hist(bins = 50)\n",
    "plt.show()\n",
    "\n"
   ]
  },
  {
   "cell_type": "markdown",
   "id": "0bbc1363",
   "metadata": {},
   "source": [
    "### What grade point average is required to be in the top 5% of the graduating class?"
   ]
  },
  {
   "cell_type": "code",
   "execution_count": 45,
   "id": "91d4e0fc",
   "metadata": {},
   "outputs": [
    {
     "data": {
      "text/plain": [
       "3.4934560880854417"
      ]
     },
     "execution_count": 45,
     "metadata": {},
     "output_type": "execute_result"
    }
   ],
   "source": [
    "stats.norm(3, .3).isf(.05)"
   ]
  },
  {
   "cell_type": "code",
   "execution_count": 307,
   "id": "b09c6b1d",
   "metadata": {},
   "outputs": [
    {
     "data": {
      "text/plain": [
       "3.49344080876153"
      ]
     },
     "execution_count": 307,
     "metadata": {},
     "output_type": "execute_result"
    }
   ],
   "source": [
    "# Sim\n",
    "gpa = np.random.normal(3, .3, size=(10_000))\n",
    "np.percentile(gpa, 95)"
   ]
  },
  {
   "cell_type": "markdown",
   "id": "0ac817aa",
   "metadata": {},
   "source": [
    "### What GPA constitutes the bottom 15% of the class?"
   ]
  },
  {
   "cell_type": "code",
   "execution_count": 310,
   "id": "4124a942",
   "metadata": {},
   "outputs": [
    {
     "data": {
      "text/plain": [
       "2.689069983151863"
      ]
     },
     "execution_count": 310,
     "metadata": {},
     "output_type": "execute_result"
    }
   ],
   "source": [
    "stats.norm(3, .3).ppf(.15)"
   ]
  },
  {
   "cell_type": "code",
   "execution_count": 208,
   "id": "2a5625f7",
   "metadata": {},
   "outputs": [
    {
     "data": {
      "text/plain": [
       "2.6948560444262033"
      ]
     },
     "execution_count": 208,
     "metadata": {},
     "output_type": "execute_result"
    }
   ],
   "source": [
    "# Sim\n",
    "np.quantile(gpa, .15)"
   ]
  },
  {
   "cell_type": "markdown",
   "id": "20e54261",
   "metadata": {},
   "source": [
    "### An eccentric alumnus left scholarship money for students in the third decile from the bottom of their class. Determine the range of the third decile. Would a student with a 2.8 grade point average qualify for this scholarship?"
   ]
  },
  {
   "cell_type": "code",
   "execution_count": 403,
   "id": "7a3fc108",
   "metadata": {},
   "outputs": [
    {
     "name": "stdout",
     "output_type": "stream",
     "text": [
      "2.7475136299281258-2.842679846187588\n"
     ]
    }
   ],
   "source": [
    "# Differnent\n",
    "print(f'{stats.norm(3, .3).ppf(.2)}-{stats.norm(3, .3).ppf(.3)}')"
   ]
  },
  {
   "cell_type": "code",
   "execution_count": 52,
   "id": "e36af00d",
   "metadata": {},
   "outputs": [
    {
     "data": {
      "text/plain": [
       "True"
      ]
     },
     "execution_count": 52,
     "metadata": {},
     "output_type": "execute_result"
    }
   ],
   "source": [
    "min_gpa = stats.norm(3, .3).ppf(.2)\n",
    "max_gpa = stats.norm(3, .3).ppf(.3)\n",
    "\n",
    "#min_gpa\n",
    "#max_gpa\n",
    "\n",
    "min_gpa < 2.8 < max_gpa"
   ]
  },
  {
   "cell_type": "markdown",
   "id": "0de5d4c7",
   "metadata": {},
   "source": [
    "### If I have a GPA of 3.5, what percentile am I in?"
   ]
  },
  {
   "cell_type": "code",
   "execution_count": 53,
   "id": "679d1534",
   "metadata": {},
   "outputs": [
    {
     "data": {
      "text/plain": [
       "0.9522096477271853"
      ]
     },
     "execution_count": 53,
     "metadata": {},
     "output_type": "execute_result"
    }
   ],
   "source": [
    "stats.norm(3, .3).cdf(3.5)"
   ]
  },
  {
   "cell_type": "code",
   "execution_count": 209,
   "id": "b0e3ae59",
   "metadata": {},
   "outputs": [
    {
     "data": {
      "text/plain": [
       "0.9548"
      ]
     },
     "execution_count": 209,
     "metadata": {},
     "output_type": "execute_result"
    }
   ],
   "source": [
    "# Sim\n",
    "questioned_gpa = 3.5\n",
    "(questioned_gpa > gpa).mean()"
   ]
  },
  {
   "cell_type": "markdown",
   "id": "20135470",
   "metadata": {},
   "source": [
    "### 3.) A marketing website has an average click-through rate of 2%. One day they observe 4326 visitors and 97 click-throughs. How likely is it that this many people or more click through?"
   ]
  },
  {
   "cell_type": "code",
   "execution_count": 93,
   "id": "fbe90c3a",
   "metadata": {},
   "outputs": [
    {
     "data": {
      "image/png": "[encoded data removed]",
      "text/plain": [
       "<Figure size 864x360 with 1 Axes>"
      ]
     },
     "metadata": {
      "needs_background": "light"
     },
     "output_type": "display_data"
    }
   ],
   "source": [
    "pd.Series(stats.binom(4326, .02).rvs(10000)).value_counts().sort_index().plot.bar(figsize=(12,5))\n",
    "plt.show()"
   ]
  },
  {
   "cell_type": "code",
   "execution_count": 321,
   "id": "88d4adbc",
   "metadata": {},
   "outputs": [
    {
     "data": {
      "text/plain": [
       "0.13975823631416445"
      ]
     },
     "execution_count": 321,
     "metadata": {},
     "output_type": "execute_result"
    }
   ],
   "source": [
    "click_thru = .02\n",
    "clicks = 97\n",
    "trials = 4326\n",
    "\n",
    "stats.binom(trials, click_thru).sf(96)"
   ]
  },
  {
   "cell_type": "code",
   "execution_count": 324,
   "id": "242390d3",
   "metadata": {},
   "outputs": [
    {
     "data": {
      "text/plain": [
       "0.117"
      ]
     },
     "execution_count": 324,
     "metadata": {},
     "output_type": "execute_result"
    }
   ],
   "source": [
    "# Sim\n",
    "click_click = np.random.binomial(trials, click_thru, size=(10_000))\n",
    "(click_click > clicks).mean()"
   ]
  },
  {
   "cell_type": "markdown",
   "id": "ac10e389",
   "metadata": {},
   "source": [
    "### 4.) You are working on some statistics homework consisting of 100 questions where all of the answers are a probability rounded to the hundreths place. Looking to save time, you put down random probabilities as the answer to each question.\n",
    "\n",
    "### What is the probability that at least one of your first 60 answers is correct?"
   ]
  },
  {
   "cell_type": "code",
   "execution_count": 101,
   "id": "59ebb366",
   "metadata": {},
   "outputs": [
    {
     "data": {
      "image/png": "[encoded data removed]",
      "text/plain": [
       "<Figure size 864x360 with 1 Axes>"
      ]
     },
     "metadata": {
      "needs_background": "light"
     },
     "output_type": "display_data"
    }
   ],
   "source": [
    "pd.Series(stats.binom(60, .01).rvs(10000)).value_counts().sort_index().plot.bar(figsize=(12,5))\n",
    "plt.show()"
   ]
  },
  {
   "cell_type": "code",
   "execution_count": 303,
   "id": "a1486dc2",
   "metadata": {},
   "outputs": [
    {
     "data": {
      "text/plain": [
       "0.45284335760923855"
      ]
     },
     "execution_count": 303,
     "metadata": {},
     "output_type": "execute_result"
    }
   ],
   "source": [
    "questions = 100\n",
    "trials = 60\n",
    "p = .01\n",
    "\n",
    "stats.binom(trials, p).sf(0)"
   ]
  },
  {
   "cell_type": "code",
   "execution_count": 304,
   "id": "826924d7",
   "metadata": {},
   "outputs": [
    {
     "data": {
      "text/plain": [
       "0.4584"
      ]
     },
     "execution_count": 304,
     "metadata": {},
     "output_type": "execute_result"
    }
   ],
   "source": [
    "# Sim\n",
    "questions_in_question = np.random.binomial(trials,p,size=(10_000))\n",
    "(questions_in_question > 0).mean()"
   ]
  },
  {
   "cell_type": "markdown",
   "id": "55797e22",
   "metadata": {},
   "source": [
    "### 5.) The codeup staff tends to get upset when the student break area is not cleaned up. Suppose that there's a 3% chance that any one student cleans the break area when they visit it, and, on any given day, about 90% of the 3 active cohorts of 22 students visit the break area. "
   ]
  },
  {
   "cell_type": "code",
   "execution_count": 282,
   "id": "f3631651",
   "metadata": {},
   "outputs": [
    {
     "data": {
      "text/plain": [
       "59"
      ]
     },
     "execution_count": 282,
     "metadata": {},
     "output_type": "execute_result"
    }
   ],
   "source": [
    "students = round(.9*3*22)\n",
    "trials = students\n",
    "trials"
   ]
  },
  {
   "cell_type": "code",
   "execution_count": 272,
   "id": "78d4a13e",
   "metadata": {},
   "outputs": [
    {
     "data": {
      "image/png": "[encoded data removed]",
      "text/plain": [
       "<Figure size 864x360 with 1 Axes>"
      ]
     },
     "metadata": {
      "needs_background": "light"
     },
     "output_type": "display_data"
    }
   ],
   "source": [
    "pd.Series(stats.binom(trials, .03).rvs(10000)).value_counts().sort_index().plot.bar(figsize=(12,5))\n",
    "plt.show()"
   ]
  },
  {
   "cell_type": "markdown",
   "id": "8ce7fde8",
   "metadata": {},
   "source": [
    "### How likely is it that the break area gets cleaned up each day? "
   ]
  },
  {
   "cell_type": "code",
   "execution_count": 283,
   "id": "ed92963b",
   "metadata": {},
   "outputs": [
    {
     "data": {
      "text/plain": [
       "0.8342199288437352"
      ]
     },
     "execution_count": 283,
     "metadata": {},
     "output_type": "execute_result"
    }
   ],
   "source": [
    "p = .03\n",
    "stats.binom(trials, p).sf(0)"
   ]
  },
  {
   "cell_type": "code",
   "execution_count": 273,
   "id": "72a771ac",
   "metadata": {},
   "outputs": [
    {
     "data": {
      "text/plain": [
       "0.8256"
      ]
     },
     "execution_count": 273,
     "metadata": {},
     "output_type": "execute_result"
    }
   ],
   "source": [
    "# Sim\n",
    "clean_each_day = np.random.binomial(trials,p, size=(10_000))\n",
    "success = clean_each_day >=1\n",
    "success.mean()"
   ]
  },
  {
   "cell_type": "markdown",
   "id": "3a95681c",
   "metadata": {},
   "source": [
    "### How likely is it that it goes two days without getting cleaned up? "
   ]
  },
  {
   "cell_type": "code",
   "execution_count": 284,
   "id": "5965c0f6",
   "metadata": {},
   "outputs": [
    {
     "data": {
      "text/plain": [
       "0.027483031992576134"
      ]
     },
     "execution_count": 284,
     "metadata": {},
     "output_type": "execute_result"
    }
   ],
   "source": [
    "stats.binom(trials*2, p).pmf(0)"
   ]
  },
  {
   "cell_type": "code",
   "execution_count": 288,
   "id": "f4e0f472",
   "metadata": {},
   "outputs": [
    {
     "data": {
      "text/plain": [
       "0.0309"
      ]
     },
     "execution_count": 288,
     "metadata": {},
     "output_type": "execute_result"
    }
   ],
   "source": [
    "# Sim\n",
    "two_gross_days = np.random.binomial(trials*2,p, size=(10_000))\n",
    "gross_two = two_gross_days <1\n",
    "gross_two.mean()"
   ]
  },
  {
   "cell_type": "markdown",
   "id": "95ca3998",
   "metadata": {},
   "source": [
    "### All week?"
   ]
  },
  {
   "cell_type": "code",
   "execution_count": 285,
   "id": "a8722d97",
   "metadata": {},
   "outputs": [
    {
     "data": {
      "text/plain": [
       "0.00012521651388091245"
      ]
     },
     "execution_count": 285,
     "metadata": {},
     "output_type": "execute_result"
    }
   ],
   "source": [
    "stats.binom(trials*5, p).pmf(0)"
   ]
  },
  {
   "cell_type": "code",
   "execution_count": 292,
   "id": "7f02339a",
   "metadata": {},
   "outputs": [
    {
     "data": {
      "text/plain": [
       "0.0001"
      ]
     },
     "execution_count": 292,
     "metadata": {},
     "output_type": "execute_result"
    }
   ],
   "source": [
    "five_gross_days = np.random.binomial(trials*5,p,size=(10_000))\n",
    "gross_week = five_gross_days < 1\n",
    "gross_week.mean()"
   ]
  },
  {
   "cell_type": "markdown",
   "id": "5e452117",
   "metadata": {},
   "source": [
    "### 6.) You want to get lunch at La Panaderia, but notice that the line is usually very long at lunchtime. After several weeks of careful observation, you notice that the average number of people in line when your lunch break starts is normally distributed with a mean of 15 and standard deviation of 3. If it takes 2 minutes for each person to order, and 10 minutes from ordering to getting your food, what is the likelihood that you have at least 15 minutes left to eat your food before you have to go back to class? Assume you have one hour for lunch, and ignore travel time to and from La Panaderia."
   ]
  },
  {
   "cell_type": "code",
   "execution_count": 293,
   "id": "c3ff5f0c",
   "metadata": {},
   "outputs": [
    {
     "data": {
      "text/plain": [
       "17"
      ]
     },
     "execution_count": 293,
     "metadata": {},
     "output_type": "execute_result"
    }
   ],
   "source": [
    "import math\n",
    "# People in the way :P\n",
    "mean = 15\n",
    "std = 3\n",
    "\n",
    "# Time needed\n",
    "time = (60 - 15 - 10)\n",
    "n_people = math.floor(time/2)\n",
    "n_people"
   ]
  },
  {
   "cell_type": "code",
   "execution_count": 132,
   "id": "a78bf9fc",
   "metadata": {},
   "outputs": [
    {
     "data": {
      "text/plain": [
       "0.7475074624530771"
      ]
     },
     "execution_count": 132,
     "metadata": {},
     "output_type": "execute_result"
    }
   ],
   "source": [
    "stats.norm(mean, std).cdf(n_people)"
   ]
  },
  {
   "cell_type": "code",
   "execution_count": 297,
   "id": "d0dc3f27",
   "metadata": {},
   "outputs": [
    {
     "data": {
      "text/plain": [
       "0.7559"
      ]
     },
     "execution_count": 297,
     "metadata": {},
     "output_type": "execute_result"
    }
   ],
   "source": [
    "# Sim\n",
    "time_for_pan = np.random.normal(15,3,size=(10_000))\n",
    "(time_for_pan < n_people).mean()"
   ]
  },
  {
   "cell_type": "markdown",
   "id": "3f8ce896",
   "metadata": {},
   "source": [
    "### 7.) Connect to the employees database and find the average salary of current employees, along with the standard deviation. For the following questions, calculate the answer based on modeling the employees salaries with a normal distribution defined by the calculated mean and standard deviation then compare this answer to the actual values present in the salaries dataset."
   ]
  },
  {
   "cell_type": "code",
   "execution_count": 1,
   "id": "744e02d3",
   "metadata": {},
   "outputs": [
    {
     "ename": "ModuleNotFoundError",
     "evalue": "No module named 'env'",
     "output_type": "error",
     "traceback": [
      "\u001b[0;31m---------------------------------------------------------------------------\u001b[0m",
      "\u001b[0;31mModuleNotFoundError\u001b[0m                       Traceback (most recent call last)",
      "\u001b[0;32m/var/folders/x6/9q2vjsz90nx_0lgx5gr8g33w0000gn/T/ipykernel_3887/3927827768.py\u001b[0m in \u001b[0;36m<module>\u001b[0;34m\u001b[0m\n\u001b[0;32m----> 1\u001b[0;31m \u001b[0;32mfrom\u001b[0m \u001b[0menv\u001b[0m \u001b[0;32mimport\u001b[0m \u001b[0mget_db_url\u001b[0m\u001b[0;34m\u001b[0m\u001b[0;34m\u001b[0m\u001b[0m\n\u001b[0m",
      "\u001b[0;31mModuleNotFoundError\u001b[0m: No module named 'env'"
     ]
    }
   ],
   "source": [
    "from env import get_db_url"
   ]
  },
  {
   "cell_type": "code",
   "execution_count": 346,
   "id": "46b9699e",
   "metadata": {},
   "outputs": [],
   "source": [
    "url = get_db_url('employees')"
   ]
  },
  {
   "cell_type": "code",
   "execution_count": 239,
   "id": "f5b16505",
   "metadata": {},
   "outputs": [
    {
     "data": {
      "text/html": [
       "<div>\n",
       "<style scoped>\n",
       "    .dataframe tbody tr th:only-of-type {\n",
       "        vertical-align: middle;\n",
       "    }\n",
       "\n",
       "    .dataframe tbody tr th {\n",
       "        vertical-align: top;\n",
       "    }\n",
       "\n",
       "    .dataframe thead th {\n",
       "        text-align: right;\n",
       "    }\n",
       "</style>\n",
       "<table border=\"1\" class=\"dataframe\">\n",
       "  <thead>\n",
       "    <tr style=\"text-align: right;\">\n",
       "      <th></th>\n",
       "      <th>emp_no</th>\n",
       "      <th>birth_date</th>\n",
       "      <th>first_name</th>\n",
       "      <th>last_name</th>\n",
       "      <th>gender</th>\n",
       "      <th>hire_date</th>\n",
       "    </tr>\n",
       "  </thead>\n",
       "  <tbody>\n",
       "    <tr>\n",
       "      <th>0</th>\n",
       "      <td>10001</td>\n",
       "      <td>1953-09-02</td>\n",
       "      <td>Georgi</td>\n",
       "      <td>Facello</td>\n",
       "      <td>M</td>\n",
       "      <td>1986-06-26</td>\n",
       "    </tr>\n",
       "    <tr>\n",
       "      <th>1</th>\n",
       "      <td>10002</td>\n",
       "      <td>1964-06-02</td>\n",
       "      <td>Bezalel</td>\n",
       "      <td>Simmel</td>\n",
       "      <td>F</td>\n",
       "      <td>1985-11-21</td>\n",
       "    </tr>\n",
       "    <tr>\n",
       "      <th>2</th>\n",
       "      <td>10003</td>\n",
       "      <td>1959-12-03</td>\n",
       "      <td>Parto</td>\n",
       "      <td>Bamford</td>\n",
       "      <td>M</td>\n",
       "      <td>1986-08-28</td>\n",
       "    </tr>\n",
       "    <tr>\n",
       "      <th>3</th>\n",
       "      <td>10004</td>\n",
       "      <td>1954-05-01</td>\n",
       "      <td>Chirstian</td>\n",
       "      <td>Koblick</td>\n",
       "      <td>M</td>\n",
       "      <td>1986-12-01</td>\n",
       "    </tr>\n",
       "    <tr>\n",
       "      <th>4</th>\n",
       "      <td>10005</td>\n",
       "      <td>1955-01-21</td>\n",
       "      <td>Kyoichi</td>\n",
       "      <td>Maliniak</td>\n",
       "      <td>M</td>\n",
       "      <td>1989-09-12</td>\n",
       "    </tr>\n",
       "  </tbody>\n",
       "</table>\n",
       "</div>"
      ],
      "text/plain": [
       "   emp_no  birth_date first_name last_name gender   hire_date\n",
       "0   10001  1953-09-02     Georgi   Facello      M  1986-06-26\n",
       "1   10002  1964-06-02    Bezalel    Simmel      F  1985-11-21\n",
       "2   10003  1959-12-03      Parto   Bamford      M  1986-08-28\n",
       "3   10004  1954-05-01  Chirstian   Koblick      M  1986-12-01\n",
       "4   10005  1955-01-21    Kyoichi  Maliniak      M  1989-09-12"
      ]
     },
     "execution_count": 239,
     "metadata": {},
     "output_type": "execute_result"
    }
   ],
   "source": [
    "employees = pd.DataFrame(pd.read_sql('SELECT * FROM employees', url))\n",
    "employees.head()"
   ]
  },
  {
   "cell_type": "code",
   "execution_count": 348,
   "id": "c32d1fec",
   "metadata": {
    "scrolled": true
   },
   "outputs": [
    {
     "data": {
      "text/html": [
       "<div>\n",
       "<style scoped>\n",
       "    .dataframe tbody tr th:only-of-type {\n",
       "        vertical-align: middle;\n",
       "    }\n",
       "\n",
       "    .dataframe tbody tr th {\n",
       "        vertical-align: top;\n",
       "    }\n",
       "\n",
       "    .dataframe thead th {\n",
       "        text-align: right;\n",
       "    }\n",
       "</style>\n",
       "<table border=\"1\" class=\"dataframe\">\n",
       "  <thead>\n",
       "    <tr style=\"text-align: right;\">\n",
       "      <th></th>\n",
       "      <th>salary</th>\n",
       "    </tr>\n",
       "  </thead>\n",
       "  <tbody>\n",
       "    <tr>\n",
       "      <th>0</th>\n",
       "      <td>88958</td>\n",
       "    </tr>\n",
       "    <tr>\n",
       "      <th>1</th>\n",
       "      <td>72527</td>\n",
       "    </tr>\n",
       "    <tr>\n",
       "      <th>2</th>\n",
       "      <td>43311</td>\n",
       "    </tr>\n",
       "    <tr>\n",
       "      <th>3</th>\n",
       "      <td>74057</td>\n",
       "    </tr>\n",
       "    <tr>\n",
       "      <th>4</th>\n",
       "      <td>94692</td>\n",
       "    </tr>\n",
       "  </tbody>\n",
       "</table>\n",
       "</div>"
      ],
      "text/plain": [
       "   salary\n",
       "0   88958\n",
       "1   72527\n",
       "2   43311\n",
       "3   74057\n",
       "4   94692"
      ]
     },
     "execution_count": 348,
     "metadata": {},
     "output_type": "execute_result"
    }
   ],
   "source": [
    "salaries = pd.read_sql(\n",
    "    '''SELECT salary \n",
    "       FROM salaries \n",
    "       WHERE to_date > NOW()''', \n",
    "       get_db_url('employees'))\n",
    "salaries.head()"
   ]
  },
  {
   "cell_type": "code",
   "execution_count": 349,
   "id": "9e3bf9a1",
   "metadata": {},
   "outputs": [
    {
     "data": {
      "image/png": "[encoded data removed]",
      "text/plain": [
       "<Figure size 432x288 with 1 Axes>"
      ]
     },
     "metadata": {
      "needs_background": "light"
     },
     "output_type": "display_data"
    }
   ],
   "source": [
    "mean = salaries.mean()\n",
    "std = salaries.std()\n",
    "\n",
    "pd.Series(stats.norm(mean, std).rvs(10000)).plot.hist()\n",
    "plt.show()"
   ]
  },
  {
   "cell_type": "markdown",
   "id": "f7d2de70",
   "metadata": {},
   "source": [
    "### What percent of employees earn less than 60,000?"
   ]
  },
  {
   "cell_type": "code",
   "execution_count": 350,
   "id": "97e87463",
   "metadata": {},
   "outputs": [
    {
     "data": {
      "text/plain": [
       "0.24385742480214434"
      ]
     },
     "execution_count": 350,
     "metadata": {},
     "output_type": "execute_result"
    }
   ],
   "source": [
    "stats.norm(mean,std).cdf(60000)[0]"
   ]
  },
  {
   "cell_type": "code",
   "execution_count": 328,
   "id": "2e087401",
   "metadata": {},
   "outputs": [
    {
     "data": {
      "text/plain": [
       "0.2458"
      ]
     },
     "execution_count": 328,
     "metadata": {},
     "output_type": "execute_result"
    }
   ],
   "source": [
    "# Sim\n",
    "below_six = np.random.normal(mean, std, size=(10_000))\n",
    "(below_six < 60000).mean()"
   ]
  },
  {
   "cell_type": "markdown",
   "id": "a69f0092",
   "metadata": {},
   "source": [
    "### What percent of employees earn more than 95,000?"
   ]
  },
  {
   "cell_type": "code",
   "execution_count": 352,
   "id": "7cc62d9e",
   "metadata": {},
   "outputs": [
    {
     "data": {
      "text/plain": [
       "0.09208819199804058"
      ]
     },
     "execution_count": 352,
     "metadata": {},
     "output_type": "execute_result"
    }
   ],
   "source": [
    "stats.norm(mean,std).sf(95000)[0]"
   ]
  },
  {
   "cell_type": "code",
   "execution_count": 351,
   "id": "e50384a7",
   "metadata": {},
   "outputs": [
    {
     "data": {
      "text/plain": [
       "0.0966"
      ]
     },
     "execution_count": 351,
     "metadata": {},
     "output_type": "execute_result"
    }
   ],
   "source": [
    "# Sim\n",
    "above_nine_five = np.random.normal(mean, std, size=(10_000))\n",
    "(above_nine_five > 95000).mean()"
   ]
  },
  {
   "cell_type": "markdown",
   "id": "5dba7472",
   "metadata": {},
   "source": [
    "### What percent of employees earn between 65,000 and 80,000?"
   ]
  },
  {
   "cell_type": "code",
   "execution_count": 353,
   "id": "acc28a8c",
   "metadata": {},
   "outputs": [
    {
     "data": {
      "text/plain": [
       "0.3350605685446666"
      ]
     },
     "execution_count": 353,
     "metadata": {},
     "output_type": "execute_result"
    }
   ],
   "source": [
    "above_six_five = stats.norm(mean,std).sf(65000)\n",
    "above_eighty = stats.norm(mean,std).sf(80000)\n",
    "\n",
    "between_six_five_and_eighty = above_six_five - above_eighty\n",
    "between_six_five_and_eighty.mean()"
   ]
  },
  {
   "cell_type": "code",
   "execution_count": 356,
   "id": "8ef14ca9",
   "metadata": {},
   "outputs": [
    {
     "data": {
      "text/plain": [
       "salary    0.325107\n",
       "dtype: float64"
      ]
     },
     "execution_count": 356,
     "metadata": {},
     "output_type": "execute_result"
    }
   ],
   "source": [
    "# Easier...\n",
    "((salaries>65_000) & (salaries<80_000)).mean()"
   ]
  },
  {
   "cell_type": "markdown",
   "id": "804bc76b",
   "metadata": {},
   "source": [
    "### What do the top 5% of employees make?"
   ]
  },
  {
   "cell_type": "code",
   "execution_count": 354,
   "id": "dcf7413d",
   "metadata": {},
   "outputs": [
    {
     "data": {
      "text/plain": [
       "100484.64"
      ]
     },
     "execution_count": 354,
     "metadata": {},
     "output_type": "execute_result"
    }
   ],
   "source": [
    "round(stats.norm(mean,std).isf(.05)[0], 2)"
   ]
  },
  {
   "cell_type": "code",
   "execution_count": 355,
   "id": "315ae3b5",
   "metadata": {},
   "outputs": [
    {
     "data": {
      "text/plain": [
       "94119"
      ]
     },
     "execution_count": 355,
     "metadata": {},
     "output_type": "execute_result"
    }
   ],
   "source": [
    "# Sim ****Why?????*****\n",
    "salaries.salary[int(len(salaries)*.95)]"
   ]
  },
  {
   "cell_type": "code",
   "execution_count": null,
   "id": "8821d0b2",
   "metadata": {},
   "outputs": [],
   "source": []
  }
 ],
 "metadata": {
  "kernelspec": {
   "display_name": "Python 3 (ipykernel)",
   "language": "python",
   "name": "python3"
  },
  "language_info": {
   "codemirror_mode": {
    "name": "ipython",
    "version": 3
   },
   "file_extension": ".py",
   "mimetype": "text/x-python",
   "name": "python",
   "nbconvert_exporter": "python",
   "pygments_lexer": "ipython3",
   "version": "3.9.7"
  }
 },
 "nbformat": 4,
 "nbformat_minor": 5
}
